{
 "cells": [
  {
   "cell_type": "markdown",
   "id": "536a8464-2655-4ca2-8edc-5eee561cd3f3",
   "metadata": {
    "tags": []
   },
   "source": [
    "# Análise de jogos do Corinthians na Arena"
   ]
  },
  {
   "cell_type": "markdown",
   "id": "db74f071-21c8-45ff-b89d-8e60c14c1b33",
   "metadata": {},
   "source": [
    "Olá! \n",
    "\n",
    "Esse é o meu primeiro projeto demonstrativo de Python. Nele, tomei o cuidado de buscar um DataSet em que ainda não houvesse um code público para que o trabalho não estivesse enviesado, escolhi um tema relacionado a futebol por ser de fácil entendimento para muitos brasileiros.\n",
    "\n",
    "Nessa análise tento demonstrar conceitos de limpeza e organização de dados, como formatação para dot notation, set de datas e etc, incluindo a observação de uma inconsistência que só foi possível identificar em meio à análise gráfica.\n",
    "\n",
    "Demonstro também um conceito simples de Machine Learning, a regressão linear, além de encontrar respostas para algumas respotas por meio da análise do DataSet.\n",
    "\n",
    "Fonte: https://www.kaggle.com/datasets/danilosoares/arena-corinthians"
   ]
  },
  {
   "cell_type": "markdown",
   "id": "b7290c30-ba30-41c6-b239-ddff0e68aa60",
   "metadata": {
    "tags": []
   },
   "source": [
    "# Arrumando e organizando os dados:"
   ]
  },
  {
   "cell_type": "code",
   "execution_count": 77,
   "id": "cdcf92c4-9d62-4550-b783-b3405045500b",
   "metadata": {
    "tags": []
   },
   "outputs": [],
   "source": [
    "import pandas as pd\n",
    "import numpy as np\n",
    "import matplotlib.pyplot as plt\n",
    "import seaborn as sb\n",
    "%matplotlib inline\n",
    "from sklearn.linear_model import LinearRegression\n",
    "from yellowbrick.regressor import ResidualsPlot\n",
    "import statsmodels.api as sm"
   ]
  },
  {
   "cell_type": "code",
   "execution_count": 78,
   "id": "d6a3769b-b04d-4259-8271-153e22db6fc8",
   "metadata": {},
   "outputs": [],
   "source": [
    "#leitura de dados\n",
    "cr = pd.read_csv('C:\\\\Projetos\\\\dados\\\\Jogos.csv', encoding='latin-1')"
   ]
  },
  {
   "cell_type": "code",
   "execution_count": 79,
   "id": "a38ee8a0-f316-49f4-bd03-898ac8d8113c",
   "metadata": {},
   "outputs": [
    {
     "data": {
      "text/plain": [
       "(260, 39)"
      ]
     },
     "execution_count": 79,
     "metadata": {},
     "output_type": "execute_result"
    }
   ],
   "source": [
    "cr.shape"
   ]
  },
  {
   "cell_type": "code",
   "execution_count": 80,
   "id": "2391cb54-45e0-42c0-9e27-dda972be3060",
   "metadata": {},
   "outputs": [
    {
     "data": {
      "text/html": [
       "<div>\n",
       "<style scoped>\n",
       "    .dataframe tbody tr th:only-of-type {\n",
       "        vertical-align: middle;\n",
       "    }\n",
       "\n",
       "    .dataframe tbody tr th {\n",
       "        vertical-align: top;\n",
       "    }\n",
       "\n",
       "    .dataframe thead th {\n",
       "        text-align: right;\n",
       "    }\n",
       "</style>\n",
       "<table border=\"1\" class=\"dataframe\">\n",
       "  <thead>\n",
       "    <tr style=\"text-align: right;\">\n",
       "      <th></th>\n",
       "      <th>JOGO</th>\n",
       "      <th>RESULTADO</th>\n",
       "      <th>CORINTHIANS</th>\n",
       "      <th>GOL COR</th>\n",
       "      <th>GOL VIS</th>\n",
       "      <th>VISITANTE</th>\n",
       "      <th>CIDADE - VISITANTE</th>\n",
       "      <th>UF</th>\n",
       "      <th>PAIS</th>\n",
       "      <th>DIA</th>\n",
       "      <th>...</th>\n",
       "      <th>GOL-NORTE</th>\n",
       "      <th>GOL VIS-SUL</th>\n",
       "      <th>GOL VIS-NORTE</th>\n",
       "      <th>GOL-1T</th>\n",
       "      <th>GOL-2T</th>\n",
       "      <th>GOL VIS-1T</th>\n",
       "      <th>GOL VIS-2T</th>\n",
       "      <th>ARBITRO</th>\n",
       "      <th>UF-ARBITRO</th>\n",
       "      <th>VAR</th>\n",
       "    </tr>\n",
       "  </thead>\n",
       "  <tbody>\n",
       "    <tr>\n",
       "      <th>0</th>\n",
       "      <td>1</td>\n",
       "      <td>D</td>\n",
       "      <td>CORINTHIANS</td>\n",
       "      <td>0</td>\n",
       "      <td>1</td>\n",
       "      <td>FIGUEIRENSE</td>\n",
       "      <td>FLORIANOPOLIS</td>\n",
       "      <td>SC</td>\n",
       "      <td>BRA</td>\n",
       "      <td>18</td>\n",
       "      <td>...</td>\n",
       "      <td>0</td>\n",
       "      <td>0</td>\n",
       "      <td>1</td>\n",
       "      <td>0</td>\n",
       "      <td>0</td>\n",
       "      <td>0</td>\n",
       "      <td>1</td>\n",
       "      <td>JAILSON MACEDO DE FREITAS</td>\n",
       "      <td>BA</td>\n",
       "      <td>NAO</td>\n",
       "    </tr>\n",
       "    <tr>\n",
       "      <th>1</th>\n",
       "      <td>2</td>\n",
       "      <td>E</td>\n",
       "      <td>CORINTHIANS</td>\n",
       "      <td>1</td>\n",
       "      <td>1</td>\n",
       "      <td>BOTAFOGO</td>\n",
       "      <td>RIO DE JANEIRO</td>\n",
       "      <td>RJ</td>\n",
       "      <td>BRA</td>\n",
       "      <td>1</td>\n",
       "      <td>...</td>\n",
       "      <td>1</td>\n",
       "      <td>0</td>\n",
       "      <td>1</td>\n",
       "      <td>1</td>\n",
       "      <td>0</td>\n",
       "      <td>0</td>\n",
       "      <td>1</td>\n",
       "      <td>LEANDRO PEDRO VUADEN</td>\n",
       "      <td>RS</td>\n",
       "      <td>NAO</td>\n",
       "    </tr>\n",
       "    <tr>\n",
       "      <th>2</th>\n",
       "      <td>3</td>\n",
       "      <td>V</td>\n",
       "      <td>CORINTHIANS</td>\n",
       "      <td>2</td>\n",
       "      <td>1</td>\n",
       "      <td>INTERNACIONAL</td>\n",
       "      <td>PORTO ALEGRE</td>\n",
       "      <td>RS</td>\n",
       "      <td>BRA</td>\n",
       "      <td>17</td>\n",
       "      <td>...</td>\n",
       "      <td>0</td>\n",
       "      <td>1</td>\n",
       "      <td>0</td>\n",
       "      <td>2</td>\n",
       "      <td>0</td>\n",
       "      <td>0</td>\n",
       "      <td>1</td>\n",
       "      <td>WAGNER REWAY</td>\n",
       "      <td>MT</td>\n",
       "      <td>NAO</td>\n",
       "    </tr>\n",
       "    <tr>\n",
       "      <th>3</th>\n",
       "      <td>4</td>\n",
       "      <td>V</td>\n",
       "      <td>CORINTHIANS</td>\n",
       "      <td>3</td>\n",
       "      <td>0</td>\n",
       "      <td>BAHIA</td>\n",
       "      <td>SALVADOR</td>\n",
       "      <td>BA</td>\n",
       "      <td>BRA</td>\n",
       "      <td>23</td>\n",
       "      <td>...</td>\n",
       "      <td>1</td>\n",
       "      <td>0</td>\n",
       "      <td>0</td>\n",
       "      <td>2</td>\n",
       "      <td>1</td>\n",
       "      <td>0</td>\n",
       "      <td>0</td>\n",
       "      <td>IGOR JUNIO BENEVENUTO</td>\n",
       "      <td>MG</td>\n",
       "      <td>NAO</td>\n",
       "    </tr>\n",
       "    <tr>\n",
       "      <th>4</th>\n",
       "      <td>5</td>\n",
       "      <td>V</td>\n",
       "      <td>CORINTHIANS</td>\n",
       "      <td>2</td>\n",
       "      <td>0</td>\n",
       "      <td>PALMEIRAS</td>\n",
       "      <td>SAO PAULO</td>\n",
       "      <td>SP</td>\n",
       "      <td>BRA</td>\n",
       "      <td>27</td>\n",
       "      <td>...</td>\n",
       "      <td>2</td>\n",
       "      <td>0</td>\n",
       "      <td>0</td>\n",
       "      <td>0</td>\n",
       "      <td>2</td>\n",
       "      <td>0</td>\n",
       "      <td>0</td>\n",
       "      <td>SANDRO MEIRA RICCI</td>\n",
       "      <td>PE</td>\n",
       "      <td>NAO</td>\n",
       "    </tr>\n",
       "  </tbody>\n",
       "</table>\n",
       "<p>5 rows × 39 columns</p>\n",
       "</div>"
      ],
      "text/plain": [
       "   JOGO RESULTADO  CORINTHIANS  GOL COR  GOL VIS      VISITANTE  \\\n",
       "0     1         D  CORINTHIANS        0        1    FIGUEIRENSE   \n",
       "1     2         E  CORINTHIANS        1        1       BOTAFOGO   \n",
       "2     3         V  CORINTHIANS        2        1  INTERNACIONAL   \n",
       "3     4         V  CORINTHIANS        3        0          BAHIA   \n",
       "4     5         V  CORINTHIANS        2        0      PALMEIRAS   \n",
       "\n",
       "  CIDADE - VISITANTE  UF PAIS  DIA  ...  GOL-NORTE  GOL VIS-SUL GOL VIS-NORTE  \\\n",
       "0      FLORIANOPOLIS  SC  BRA   18  ...          0            0             1   \n",
       "1     RIO DE JANEIRO  RJ  BRA    1  ...          1            0             1   \n",
       "2       PORTO ALEGRE  RS  BRA   17  ...          0            1             0   \n",
       "3           SALVADOR  BA  BRA   23  ...          1            0             0   \n",
       "4          SAO PAULO  SP  BRA   27  ...          2            0             0   \n",
       "\n",
       "  GOL-1T GOL-2T GOL VIS-1T GOL VIS-2T                    ARBITRO  UF-ARBITRO  \\\n",
       "0      0      0          0          1  JAILSON MACEDO DE FREITAS          BA   \n",
       "1      1      0          0          1       LEANDRO PEDRO VUADEN          RS   \n",
       "2      2      0          0          1               WAGNER REWAY          MT   \n",
       "3      2      1          0          0      IGOR JUNIO BENEVENUTO          MG   \n",
       "4      0      2          0          0         SANDRO MEIRA RICCI          PE   \n",
       "\n",
       "   VAR  \n",
       "0  NAO  \n",
       "1  NAO  \n",
       "2  NAO  \n",
       "3  NAO  \n",
       "4  NAO  \n",
       "\n",
       "[5 rows x 39 columns]"
      ]
     },
     "execution_count": 80,
     "metadata": {},
     "output_type": "execute_result"
    }
   ],
   "source": [
    "cr.head()"
   ]
  },
  {
   "cell_type": "code",
   "execution_count": 81,
   "id": "7f9659ab-7c3b-4aca-b2a6-cbac6591adc0",
   "metadata": {},
   "outputs": [],
   "source": [
    "#arrumando o nome das colunas e trazendo os dados todos para minúsculo, para facilitar a dot notation e análise dos dados:\n",
    "cr.columns = cr.columns.str.lower()\n",
    "cr.columns = cr.columns.str.replace('-','_')\n",
    "cr.columns = cr.columns.str.replace(' ','_')\n",
    "cr.columns = cr.columns.str.replace('___','_')\n",
    "for coluna in cr.columns:\n",
    "    if cr[coluna].dtypes == 'object':\n",
    "        cr[coluna] = cr[coluna].str.lower()"
   ]
  },
  {
   "cell_type": "code",
   "execution_count": 82,
   "id": "7fc6c6a3-3401-44ec-b81a-8b213d4b82e0",
   "metadata": {
    "jupyter": {
     "source_hidden": true
    },
    "tags": []
   },
   "outputs": [],
   "source": [
    "#Convertendo tipos: deixando renda e publico no formato numérico padrão:\n",
    "cr.renda = cr.renda.str.replace('.','', regex = False)\n",
    "cr.renda = cr.renda.str.replace(',','.', regex = False)\n",
    "cr.renda = cr.renda.astype('float')\n",
    "cr.publico = cr.publico.astype('str')\n",
    "cr.publico = cr.publico.str.replace('.','', regex = False)\n",
    "cr.publico = cr.publico.astype('int')"
   ]
  },
  {
   "cell_type": "code",
   "execution_count": 83,
   "id": "c6954361-2689-4422-8614-2515b56ad668",
   "metadata": {},
   "outputs": [
    {
     "data": {
      "text/html": [
       "<div>\n",
       "<style scoped>\n",
       "    .dataframe tbody tr th:only-of-type {\n",
       "        vertical-align: middle;\n",
       "    }\n",
       "\n",
       "    .dataframe tbody tr th {\n",
       "        vertical-align: top;\n",
       "    }\n",
       "\n",
       "    .dataframe thead th {\n",
       "        text-align: right;\n",
       "    }\n",
       "</style>\n",
       "<table border=\"1\" class=\"dataframe\">\n",
       "  <thead>\n",
       "    <tr style=\"text-align: right;\">\n",
       "      <th></th>\n",
       "      <th>jogo</th>\n",
       "      <th>resultado</th>\n",
       "      <th>corinthians</th>\n",
       "      <th>gol_cor</th>\n",
       "      <th>gol_vis</th>\n",
       "      <th>visitante</th>\n",
       "      <th>cidade_visitante</th>\n",
       "      <th>uf</th>\n",
       "      <th>pais</th>\n",
       "      <th>dia</th>\n",
       "      <th>...</th>\n",
       "      <th>gol_vis_sul</th>\n",
       "      <th>gol_vis_norte</th>\n",
       "      <th>gol_1t</th>\n",
       "      <th>gol_2t</th>\n",
       "      <th>gol_vis_1t</th>\n",
       "      <th>gol_vis_2t</th>\n",
       "      <th>arbitro</th>\n",
       "      <th>uf_arbitro</th>\n",
       "      <th>var</th>\n",
       "      <th>data</th>\n",
       "    </tr>\n",
       "  </thead>\n",
       "  <tbody>\n",
       "    <tr>\n",
       "      <th>0</th>\n",
       "      <td>1</td>\n",
       "      <td>d</td>\n",
       "      <td>corinthians</td>\n",
       "      <td>0</td>\n",
       "      <td>1</td>\n",
       "      <td>figueirense</td>\n",
       "      <td>florianopolis</td>\n",
       "      <td>sc</td>\n",
       "      <td>bra</td>\n",
       "      <td>18</td>\n",
       "      <td>...</td>\n",
       "      <td>0</td>\n",
       "      <td>1</td>\n",
       "      <td>0</td>\n",
       "      <td>0</td>\n",
       "      <td>0</td>\n",
       "      <td>1</td>\n",
       "      <td>jailson macedo de freitas</td>\n",
       "      <td>ba</td>\n",
       "      <td>nao</td>\n",
       "      <td>2014-05-18</td>\n",
       "    </tr>\n",
       "    <tr>\n",
       "      <th>1</th>\n",
       "      <td>2</td>\n",
       "      <td>e</td>\n",
       "      <td>corinthians</td>\n",
       "      <td>1</td>\n",
       "      <td>1</td>\n",
       "      <td>botafogo</td>\n",
       "      <td>rio de janeiro</td>\n",
       "      <td>rj</td>\n",
       "      <td>bra</td>\n",
       "      <td>1</td>\n",
       "      <td>...</td>\n",
       "      <td>0</td>\n",
       "      <td>1</td>\n",
       "      <td>1</td>\n",
       "      <td>0</td>\n",
       "      <td>0</td>\n",
       "      <td>1</td>\n",
       "      <td>leandro pedro vuaden</td>\n",
       "      <td>rs</td>\n",
       "      <td>nao</td>\n",
       "      <td>2014-06-01</td>\n",
       "    </tr>\n",
       "    <tr>\n",
       "      <th>2</th>\n",
       "      <td>3</td>\n",
       "      <td>v</td>\n",
       "      <td>corinthians</td>\n",
       "      <td>2</td>\n",
       "      <td>1</td>\n",
       "      <td>internacional</td>\n",
       "      <td>porto alegre</td>\n",
       "      <td>rs</td>\n",
       "      <td>bra</td>\n",
       "      <td>17</td>\n",
       "      <td>...</td>\n",
       "      <td>1</td>\n",
       "      <td>0</td>\n",
       "      <td>2</td>\n",
       "      <td>0</td>\n",
       "      <td>0</td>\n",
       "      <td>1</td>\n",
       "      <td>wagner reway</td>\n",
       "      <td>mt</td>\n",
       "      <td>nao</td>\n",
       "      <td>2014-07-17</td>\n",
       "    </tr>\n",
       "    <tr>\n",
       "      <th>3</th>\n",
       "      <td>4</td>\n",
       "      <td>v</td>\n",
       "      <td>corinthians</td>\n",
       "      <td>3</td>\n",
       "      <td>0</td>\n",
       "      <td>bahia</td>\n",
       "      <td>salvador</td>\n",
       "      <td>ba</td>\n",
       "      <td>bra</td>\n",
       "      <td>23</td>\n",
       "      <td>...</td>\n",
       "      <td>0</td>\n",
       "      <td>0</td>\n",
       "      <td>2</td>\n",
       "      <td>1</td>\n",
       "      <td>0</td>\n",
       "      <td>0</td>\n",
       "      <td>igor junio benevenuto</td>\n",
       "      <td>mg</td>\n",
       "      <td>nao</td>\n",
       "      <td>2014-07-23</td>\n",
       "    </tr>\n",
       "    <tr>\n",
       "      <th>4</th>\n",
       "      <td>5</td>\n",
       "      <td>v</td>\n",
       "      <td>corinthians</td>\n",
       "      <td>2</td>\n",
       "      <td>0</td>\n",
       "      <td>palmeiras</td>\n",
       "      <td>sao paulo</td>\n",
       "      <td>sp</td>\n",
       "      <td>bra</td>\n",
       "      <td>27</td>\n",
       "      <td>...</td>\n",
       "      <td>0</td>\n",
       "      <td>0</td>\n",
       "      <td>0</td>\n",
       "      <td>2</td>\n",
       "      <td>0</td>\n",
       "      <td>0</td>\n",
       "      <td>sandro meira ricci</td>\n",
       "      <td>pe</td>\n",
       "      <td>nao</td>\n",
       "      <td>2014-07-27</td>\n",
       "    </tr>\n",
       "  </tbody>\n",
       "</table>\n",
       "<p>5 rows × 40 columns</p>\n",
       "</div>"
      ],
      "text/plain": [
       "   jogo resultado  corinthians  gol_cor  gol_vis      visitante  \\\n",
       "0     1         d  corinthians        0        1    figueirense   \n",
       "1     2         e  corinthians        1        1       botafogo   \n",
       "2     3         v  corinthians        2        1  internacional   \n",
       "3     4         v  corinthians        3        0          bahia   \n",
       "4     5         v  corinthians        2        0      palmeiras   \n",
       "\n",
       "  cidade_visitante  uf pais  dia  ...  gol_vis_sul  gol_vis_norte gol_1t  \\\n",
       "0    florianopolis  sc  bra   18  ...            0              1      0   \n",
       "1   rio de janeiro  rj  bra    1  ...            0              1      1   \n",
       "2     porto alegre  rs  bra   17  ...            1              0      2   \n",
       "3         salvador  ba  bra   23  ...            0              0      2   \n",
       "4        sao paulo  sp  bra   27  ...            0              0      0   \n",
       "\n",
       "  gol_2t gol_vis_1t gol_vis_2t                    arbitro uf_arbitro  var  \\\n",
       "0      0          0          1  jailson macedo de freitas         ba  nao   \n",
       "1      0          0          1       leandro pedro vuaden         rs  nao   \n",
       "2      0          0          1               wagner reway         mt  nao   \n",
       "3      1          0          0      igor junio benevenuto         mg  nao   \n",
       "4      2          0          0         sandro meira ricci         pe  nao   \n",
       "\n",
       "        data  \n",
       "0 2014-05-18  \n",
       "1 2014-06-01  \n",
       "2 2014-07-17  \n",
       "3 2014-07-23  \n",
       "4 2014-07-27  \n",
       "\n",
       "[5 rows x 40 columns]"
      ]
     },
     "execution_count": 83,
     "metadata": {},
     "output_type": "execute_result"
    }
   ],
   "source": [
    "#criando uma coluna de data a partir das colunas 'mes','dia','ano':\n",
    "datado = cr.loc[:, ['dia','mes','ano']].astype(str)\n",
    "datado['data'] = datado.mes + '-' + datado.dia + '-' + datado.ano\n",
    "datado.data = pd.to_datetime(datado.data)\n",
    "cr['data'] = datado['data']\n",
    "cr.head()"
   ]
  },
  {
   "cell_type": "code",
   "execution_count": 84,
   "id": "3b0a9c1f-487c-4963-bf7b-9e2b68f272de",
   "metadata": {
    "tags": []
   },
   "outputs": [],
   "source": [
    "#criando um dataframe com as colunas importantes para análise da renda (cr2), excluindo jogos no período de pandemia, onde a renda foi R$ 0,00:\n",
    "cr2 = cr.loc[:,['resultado','corinthians','gol_cor','gol_vis','visitante','pais','dia_semana','campeonato','publico','renda','dia','mes','ano','data']] [cr.renda != 0]"
   ]
  },
  {
   "cell_type": "markdown",
   "id": "520d9d5b-7230-42ea-8af5-a64ec186246e",
   "metadata": {
    "tags": []
   },
   "source": [
    "# Analises sobre público e renda:"
   ]
  },
  {
   "cell_type": "code",
   "execution_count": 85,
   "id": "00af3a6b-f382-46ad-9d26-a9fd2edfb96b",
   "metadata": {
    "tags": []
   },
   "outputs": [
    {
     "data": {
      "text/html": [
       "<div>\n",
       "<style scoped>\n",
       "    .dataframe tbody tr th:only-of-type {\n",
       "        vertical-align: middle;\n",
       "    }\n",
       "\n",
       "    .dataframe tbody tr th {\n",
       "        vertical-align: top;\n",
       "    }\n",
       "\n",
       "    .dataframe thead th {\n",
       "        text-align: right;\n",
       "    }\n",
       "</style>\n",
       "<table border=\"1\" class=\"dataframe\">\n",
       "  <thead>\n",
       "    <tr style=\"text-align: right;\">\n",
       "      <th></th>\n",
       "      <th>resultado</th>\n",
       "      <th>corinthians</th>\n",
       "      <th>gol_cor</th>\n",
       "      <th>gol_vis</th>\n",
       "      <th>visitante</th>\n",
       "      <th>pais</th>\n",
       "      <th>dia_semana</th>\n",
       "      <th>campeonato</th>\n",
       "      <th>publico</th>\n",
       "      <th>renda</th>\n",
       "      <th>dia</th>\n",
       "      <th>mes</th>\n",
       "      <th>ano</th>\n",
       "      <th>data</th>\n",
       "    </tr>\n",
       "  </thead>\n",
       "  <tbody>\n",
       "    <tr>\n",
       "      <th>0</th>\n",
       "      <td>d</td>\n",
       "      <td>corinthians</td>\n",
       "      <td>0</td>\n",
       "      <td>1</td>\n",
       "      <td>figueirense</td>\n",
       "      <td>bra</td>\n",
       "      <td>domingo</td>\n",
       "      <td>brasileiro</td>\n",
       "      <td>36123</td>\n",
       "      <td>3029801.7</td>\n",
       "      <td>18</td>\n",
       "      <td>5</td>\n",
       "      <td>14</td>\n",
       "      <td>2014-05-18</td>\n",
       "    </tr>\n",
       "    <tr>\n",
       "      <th>1</th>\n",
       "      <td>e</td>\n",
       "      <td>corinthians</td>\n",
       "      <td>1</td>\n",
       "      <td>1</td>\n",
       "      <td>botafogo</td>\n",
       "      <td>bra</td>\n",
       "      <td>domingo</td>\n",
       "      <td>brasileiro</td>\n",
       "      <td>37119</td>\n",
       "      <td>2616819.5</td>\n",
       "      <td>1</td>\n",
       "      <td>6</td>\n",
       "      <td>14</td>\n",
       "      <td>2014-06-01</td>\n",
       "    </tr>\n",
       "    <tr>\n",
       "      <th>2</th>\n",
       "      <td>v</td>\n",
       "      <td>corinthians</td>\n",
       "      <td>2</td>\n",
       "      <td>1</td>\n",
       "      <td>internacional</td>\n",
       "      <td>bra</td>\n",
       "      <td>quinta</td>\n",
       "      <td>brasileiro</td>\n",
       "      <td>32644</td>\n",
       "      <td>2556385.5</td>\n",
       "      <td>17</td>\n",
       "      <td>7</td>\n",
       "      <td>14</td>\n",
       "      <td>2014-07-17</td>\n",
       "    </tr>\n",
       "    <tr>\n",
       "      <th>3</th>\n",
       "      <td>v</td>\n",
       "      <td>corinthians</td>\n",
       "      <td>3</td>\n",
       "      <td>0</td>\n",
       "      <td>bahia</td>\n",
       "      <td>bra</td>\n",
       "      <td>quarta</td>\n",
       "      <td>copa do brasil</td>\n",
       "      <td>24252</td>\n",
       "      <td>1389973.5</td>\n",
       "      <td>23</td>\n",
       "      <td>7</td>\n",
       "      <td>14</td>\n",
       "      <td>2014-07-23</td>\n",
       "    </tr>\n",
       "    <tr>\n",
       "      <th>4</th>\n",
       "      <td>v</td>\n",
       "      <td>corinthians</td>\n",
       "      <td>2</td>\n",
       "      <td>0</td>\n",
       "      <td>palmeiras</td>\n",
       "      <td>bra</td>\n",
       "      <td>domingo</td>\n",
       "      <td>brasileiro</td>\n",
       "      <td>31031</td>\n",
       "      <td>2206184.0</td>\n",
       "      <td>27</td>\n",
       "      <td>7</td>\n",
       "      <td>14</td>\n",
       "      <td>2014-07-27</td>\n",
       "    </tr>\n",
       "  </tbody>\n",
       "</table>\n",
       "</div>"
      ],
      "text/plain": [
       "  resultado  corinthians  gol_cor  gol_vis      visitante pais dia_semana  \\\n",
       "0         d  corinthians        0        1    figueirense  bra    domingo   \n",
       "1         e  corinthians        1        1       botafogo  bra    domingo   \n",
       "2         v  corinthians        2        1  internacional  bra     quinta   \n",
       "3         v  corinthians        3        0          bahia  bra     quarta   \n",
       "4         v  corinthians        2        0      palmeiras  bra    domingo   \n",
       "\n",
       "       campeonato  publico      renda  dia  mes  ano       data  \n",
       "0      brasileiro    36123  3029801.7   18    5   14 2014-05-18  \n",
       "1      brasileiro    37119  2616819.5    1    6   14 2014-06-01  \n",
       "2      brasileiro    32644  2556385.5   17    7   14 2014-07-17  \n",
       "3  copa do brasil    24252  1389973.5   23    7   14 2014-07-23  \n",
       "4      brasileiro    31031  2206184.0   27    7   14 2014-07-27  "
      ]
     },
     "execution_count": 85,
     "metadata": {},
     "output_type": "execute_result"
    }
   ],
   "source": [
    "cr2.head()"
   ]
  },
  {
   "cell_type": "code",
   "execution_count": 86,
   "id": "cb40ee1d-4585-477c-92e5-d546e2ad66ed",
   "metadata": {
    "tags": []
   },
   "outputs": [
    {
     "data": {
      "text/plain": [
       "<AxesSubplot:xlabel='renda', ylabel='Count'>"
      ]
     },
     "execution_count": 86,
     "metadata": {},
     "output_type": "execute_result"
    },
    {
     "data": {
      "image/png": "[encoded data removed]",
      "text/plain": [
       "<Figure size 432x288 with 1 Axes>"
      ]
     },
     "metadata": {
      "needs_background": "light"
     },
     "output_type": "display_data"
    }
   ],
   "source": [
    "sb.histplot(cr2.renda)"
   ]
  },
  {
   "cell_type": "markdown",
   "id": "86d200c5-4c25-4ec8-9814-43e9d7613e02",
   "metadata": {},
   "source": [
    "A maior parte das ocorrências de renda em jogos na Neo Química arena está entre 1.5 e 3 milhões, há alguns valores anormais abaixo do padrão pois mesmo desconsiderando os jogos\n",
    "que tiveram renda nula por conta da pandemia, ainda houveram jogos em que apenas parte do estádio estava liberada ao público. Há alguns outliers à direita, estes são jogos em finais mata-mata, onde os preços foram superiores aos praticados normalmente."
   ]
  },
  {
   "cell_type": "code",
   "execution_count": 87,
   "id": "1d1ce84f-d53d-48ec-b577-6d107bb5d3dc",
   "metadata": {
    "tags": []
   },
   "outputs": [
    {
     "data": {
      "text/html": [
       "<div>\n",
       "<style scoped>\n",
       "    .dataframe tbody tr th:only-of-type {\n",
       "        vertical-align: middle;\n",
       "    }\n",
       "\n",
       "    .dataframe tbody tr th {\n",
       "        vertical-align: top;\n",
       "    }\n",
       "\n",
       "    .dataframe thead th {\n",
       "        text-align: right;\n",
       "    }\n",
       "</style>\n",
       "<table border=\"1\" class=\"dataframe\">\n",
       "  <thead>\n",
       "    <tr style=\"text-align: right;\">\n",
       "      <th></th>\n",
       "      <th>resultado</th>\n",
       "      <th>corinthians</th>\n",
       "      <th>gol_cor</th>\n",
       "      <th>gol_vis</th>\n",
       "      <th>visitante</th>\n",
       "      <th>pais</th>\n",
       "      <th>dia_semana</th>\n",
       "      <th>campeonato</th>\n",
       "      <th>publico</th>\n",
       "      <th>renda</th>\n",
       "      <th>dia</th>\n",
       "      <th>mes</th>\n",
       "      <th>ano</th>\n",
       "      <th>data</th>\n",
       "    </tr>\n",
       "  </thead>\n",
       "  <tbody>\n",
       "    <tr>\n",
       "      <th>87</th>\n",
       "      <td>v</td>\n",
       "      <td>corinthians</td>\n",
       "      <td>1</td>\n",
       "      <td>0</td>\n",
       "      <td>ferroviaria (araraquara)</td>\n",
       "      <td>bra</td>\n",
       "      <td>quarta</td>\n",
       "      <td>amistoso</td>\n",
       "      <td>21956</td>\n",
       "      <td>365603.0</td>\n",
       "      <td>1</td>\n",
       "      <td>2</td>\n",
       "      <td>17</td>\n",
       "      <td>2017-02-01</td>\n",
       "    </tr>\n",
       "    <tr>\n",
       "      <th>94</th>\n",
       "      <td>v</td>\n",
       "      <td>corinthians</td>\n",
       "      <td>3</td>\n",
       "      <td>1</td>\n",
       "      <td>linense</td>\n",
       "      <td>bra</td>\n",
       "      <td>quarta</td>\n",
       "      <td>paulista</td>\n",
       "      <td>12159</td>\n",
       "      <td>471297.9</td>\n",
       "      <td>29</td>\n",
       "      <td>3</td>\n",
       "      <td>17</td>\n",
       "      <td>2017-03-29</td>\n",
       "    </tr>\n",
       "    <tr>\n",
       "      <th>89</th>\n",
       "      <td>v</td>\n",
       "      <td>corinthians</td>\n",
       "      <td>1</td>\n",
       "      <td>0</td>\n",
       "      <td>novorizontino (gn)</td>\n",
       "      <td>bra</td>\n",
       "      <td>quarta</td>\n",
       "      <td>paulista</td>\n",
       "      <td>11708</td>\n",
       "      <td>473376.1</td>\n",
       "      <td>15</td>\n",
       "      <td>2</td>\n",
       "      <td>17</td>\n",
       "      <td>2017-02-15</td>\n",
       "    </tr>\n",
       "    <tr>\n",
       "      <th>138</th>\n",
       "      <td>e</td>\n",
       "      <td>corinthians</td>\n",
       "      <td>2</td>\n",
       "      <td>2</td>\n",
       "      <td>cruzeiro</td>\n",
       "      <td>bra</td>\n",
       "      <td>quarta</td>\n",
       "      <td>amistoso</td>\n",
       "      <td>3683</td>\n",
       "      <td>504421.8</td>\n",
       "      <td>11</td>\n",
       "      <td>7</td>\n",
       "      <td>18</td>\n",
       "      <td>2018-07-11</td>\n",
       "    </tr>\n",
       "    <tr>\n",
       "      <th>246</th>\n",
       "      <td>v</td>\n",
       "      <td>corinthians</td>\n",
       "      <td>3</td>\n",
       "      <td>1</td>\n",
       "      <td>bahia</td>\n",
       "      <td>bra</td>\n",
       "      <td>terca</td>\n",
       "      <td>brasileiro</td>\n",
       "      <td>10624</td>\n",
       "      <td>520529.9</td>\n",
       "      <td>5</td>\n",
       "      <td>10</td>\n",
       "      <td>21</td>\n",
       "      <td>2021-10-05</td>\n",
       "    </tr>\n",
       "    <tr>\n",
       "      <th>121</th>\n",
       "      <td>d</td>\n",
       "      <td>corinthians</td>\n",
       "      <td>0</td>\n",
       "      <td>1</td>\n",
       "      <td>sao bento (sorocaba)</td>\n",
       "      <td>bra</td>\n",
       "      <td>quarta</td>\n",
       "      <td>paulista</td>\n",
       "      <td>14493</td>\n",
       "      <td>603122.9</td>\n",
       "      <td>14</td>\n",
       "      <td>2</td>\n",
       "      <td>18</td>\n",
       "      <td>2018-02-14</td>\n",
       "    </tr>\n",
       "    <tr>\n",
       "      <th>247</th>\n",
       "      <td>v</td>\n",
       "      <td>corinthians</td>\n",
       "      <td>1</td>\n",
       "      <td>0</td>\n",
       "      <td>fluminense</td>\n",
       "      <td>bra</td>\n",
       "      <td>quarta</td>\n",
       "      <td>brasileiro</td>\n",
       "      <td>12045</td>\n",
       "      <td>604926.6</td>\n",
       "      <td>13</td>\n",
       "      <td>10</td>\n",
       "      <td>21</td>\n",
       "      <td>2021-10-13</td>\n",
       "    </tr>\n",
       "    <tr>\n",
       "      <th>123</th>\n",
       "      <td>v</td>\n",
       "      <td>corinthians</td>\n",
       "      <td>1</td>\n",
       "      <td>0</td>\n",
       "      <td>mirassol</td>\n",
       "      <td>bra</td>\n",
       "      <td>quarta</td>\n",
       "      <td>paulista</td>\n",
       "      <td>15144</td>\n",
       "      <td>611717.5</td>\n",
       "      <td>7</td>\n",
       "      <td>3</td>\n",
       "      <td>18</td>\n",
       "      <td>2018-03-07</td>\n",
       "    </tr>\n",
       "    <tr>\n",
       "      <th>192</th>\n",
       "      <td>v</td>\n",
       "      <td>corinthians</td>\n",
       "      <td>3</td>\n",
       "      <td>0</td>\n",
       "      <td>avai</td>\n",
       "      <td>bra</td>\n",
       "      <td>quarta</td>\n",
       "      <td>brasileiro</td>\n",
       "      <td>17441</td>\n",
       "      <td>617881.2</td>\n",
       "      <td>27</td>\n",
       "      <td>11</td>\n",
       "      <td>19</td>\n",
       "      <td>2019-11-27</td>\n",
       "    </tr>\n",
       "    <tr>\n",
       "      <th>137</th>\n",
       "      <td>v</td>\n",
       "      <td>corinthians</td>\n",
       "      <td>2</td>\n",
       "      <td>1</td>\n",
       "      <td>gremio</td>\n",
       "      <td>bra</td>\n",
       "      <td>domingo</td>\n",
       "      <td>amistoso</td>\n",
       "      <td>27418</td>\n",
       "      <td>659436.9</td>\n",
       "      <td>8</td>\n",
       "      <td>7</td>\n",
       "      <td>18</td>\n",
       "      <td>2018-07-08</td>\n",
       "    </tr>\n",
       "  </tbody>\n",
       "</table>\n",
       "</div>"
      ],
      "text/plain": [
       "    resultado  corinthians  gol_cor  gol_vis                 visitante pais  \\\n",
       "87          v  corinthians        1        0  ferroviaria (araraquara)  bra   \n",
       "94          v  corinthians        3        1                   linense  bra   \n",
       "89          v  corinthians        1        0        novorizontino (gn)  bra   \n",
       "138         e  corinthians        2        2                  cruzeiro  bra   \n",
       "246         v  corinthians        3        1                     bahia  bra   \n",
       "121         d  corinthians        0        1      sao bento (sorocaba)  bra   \n",
       "247         v  corinthians        1        0                fluminense  bra   \n",
       "123         v  corinthians        1        0                  mirassol  bra   \n",
       "192         v  corinthians        3        0                      avai  bra   \n",
       "137         v  corinthians        2        1                    gremio  bra   \n",
       "\n",
       "    dia_semana  campeonato  publico     renda  dia  mes  ano       data  \n",
       "87      quarta    amistoso    21956  365603.0    1    2   17 2017-02-01  \n",
       "94      quarta    paulista    12159  471297.9   29    3   17 2017-03-29  \n",
       "89      quarta    paulista    11708  473376.1   15    2   17 2017-02-15  \n",
       "138     quarta    amistoso     3683  504421.8   11    7   18 2018-07-11  \n",
       "246      terca  brasileiro    10624  520529.9    5   10   21 2021-10-05  \n",
       "121     quarta    paulista    14493  603122.9   14    2   18 2018-02-14  \n",
       "247     quarta  brasileiro    12045  604926.6   13   10   21 2021-10-13  \n",
       "123     quarta    paulista    15144  611717.5    7    3   18 2018-03-07  \n",
       "192     quarta  brasileiro    17441  617881.2   27   11   19 2019-11-27  \n",
       "137    domingo    amistoso    27418  659436.9    8    7   18 2018-07-08  "
      ]
     },
     "execution_count": 87,
     "metadata": {},
     "output_type": "execute_result"
    }
   ],
   "source": [
    "cr2.sort_values('renda', ascending = True).head(10)"
   ]
  },
  {
   "cell_type": "markdown",
   "id": "f1a6cc38-d76a-4762-a9c2-6047fe0dba2f",
   "metadata": {},
   "source": [
    "Podemos verificar que entre os jogos de menor renda do corinthians, temos alguns amistosos, jogos com times de menor expressão em campeonatos oficiais e também\n",
    "jogos no começo da reabertura pós-pandemia (05/10/2021), pela liberação de uma parte menor do estádio pelas autoridades sanitárias e provavelmente também pelo receio da população."
   ]
  },
  {
   "cell_type": "code",
   "execution_count": 88,
   "id": "ea51c0ee-81b0-4c16-868f-c6b0147e8128",
   "metadata": {},
   "outputs": [
    {
     "data": {
      "text/plain": [
       "<matplotlib.collections.PathCollection at 0x1f4e37573a0>"
      ]
     },
     "execution_count": 88,
     "metadata": {},
     "output_type": "execute_result"
    },
    {
     "data": {
      "image/png": "[encoded data removed]",
      "text/plain": [
       "<Figure size 432x288 with 1 Axes>"
      ]
     },
     "metadata": {
      "needs_background": "light"
     },
     "output_type": "display_data"
    }
   ],
   "source": [
    "plt.scatter(cr2.renda, cr2.publico)"
   ]
  },
  {
   "cell_type": "markdown",
   "id": "5e488e34-44e9-42e9-8379-5661106f95e5",
   "metadata": {
    "tags": []
   },
   "source": [
    "Identificada uma possível inconsistência nos dados.\n",
    "Pelo gráfico de dispersão, temos alguns jogos com o público bem abaixo da média sem grande influência na renda."
   ]
  },
  {
   "cell_type": "markdown",
   "id": "4b403609-ada5-47ff-97ed-d5b2f013ce91",
   "metadata": {
    "tags": []
   },
   "source": [
    "# Análise de possível inconsistência Público x Renda:"
   ]
  },
  {
   "cell_type": "code",
   "execution_count": 89,
   "id": "ea84a61e-8f96-473f-99f2-81c91890992c",
   "metadata": {
    "tags": []
   },
   "outputs": [
    {
     "data": {
      "text/html": [
       "<div>\n",
       "<style scoped>\n",
       "    .dataframe tbody tr th:only-of-type {\n",
       "        vertical-align: middle;\n",
       "    }\n",
       "\n",
       "    .dataframe tbody tr th {\n",
       "        vertical-align: top;\n",
       "    }\n",
       "\n",
       "    .dataframe thead th {\n",
       "        text-align: right;\n",
       "    }\n",
       "</style>\n",
       "<table border=\"1\" class=\"dataframe\">\n",
       "  <thead>\n",
       "    <tr style=\"text-align: right;\">\n",
       "      <th></th>\n",
       "      <th>resultado</th>\n",
       "      <th>corinthians</th>\n",
       "      <th>gol_cor</th>\n",
       "      <th>gol_vis</th>\n",
       "      <th>visitante</th>\n",
       "      <th>pais</th>\n",
       "      <th>dia_semana</th>\n",
       "      <th>campeonato</th>\n",
       "      <th>publico</th>\n",
       "      <th>renda</th>\n",
       "      <th>dia</th>\n",
       "      <th>mes</th>\n",
       "      <th>ano</th>\n",
       "      <th>data</th>\n",
       "    </tr>\n",
       "  </thead>\n",
       "  <tbody>\n",
       "    <tr>\n",
       "      <th>117</th>\n",
       "      <td>v</td>\n",
       "      <td>corinthians</td>\n",
       "      <td>3</td>\n",
       "      <td>2</td>\n",
       "      <td>palmeiras</td>\n",
       "      <td>bra</td>\n",
       "      <td>domingo</td>\n",
       "      <td>brasileiro</td>\n",
       "      <td>4609</td>\n",
       "      <td>2908847.1</td>\n",
       "      <td>5</td>\n",
       "      <td>11</td>\n",
       "      <td>17</td>\n",
       "      <td>2017-11-05</td>\n",
       "    </tr>\n",
       "    <tr>\n",
       "      <th>120</th>\n",
       "      <td>e</td>\n",
       "      <td>corinthians</td>\n",
       "      <td>2</td>\n",
       "      <td>2</td>\n",
       "      <td>atletico mg</td>\n",
       "      <td>bra</td>\n",
       "      <td>domingo</td>\n",
       "      <td>brasileiro</td>\n",
       "      <td>4603</td>\n",
       "      <td>2892594.2</td>\n",
       "      <td>26</td>\n",
       "      <td>11</td>\n",
       "      <td>17</td>\n",
       "      <td>2017-11-26</td>\n",
       "    </tr>\n",
       "    <tr>\n",
       "      <th>253</th>\n",
       "      <td>e</td>\n",
       "      <td>corinthians</td>\n",
       "      <td>1</td>\n",
       "      <td>1</td>\n",
       "      <td>gremio</td>\n",
       "      <td>bra</td>\n",
       "      <td>domingo</td>\n",
       "      <td>brasileiro</td>\n",
       "      <td>4398</td>\n",
       "      <td>2517739.0</td>\n",
       "      <td>5</td>\n",
       "      <td>12</td>\n",
       "      <td>21</td>\n",
       "      <td>2021-12-05</td>\n",
       "    </tr>\n",
       "    <tr>\n",
       "      <th>183</th>\n",
       "      <td>e</td>\n",
       "      <td>corinthians</td>\n",
       "      <td>2</td>\n",
       "      <td>2</td>\n",
       "      <td>ceara</td>\n",
       "      <td>bra</td>\n",
       "      <td>sabado</td>\n",
       "      <td>brasileiro</td>\n",
       "      <td>4323</td>\n",
       "      <td>2888967.3</td>\n",
       "      <td>7</td>\n",
       "      <td>9</td>\n",
       "      <td>19</td>\n",
       "      <td>2019-09-07</td>\n",
       "    </tr>\n",
       "    <tr>\n",
       "      <th>64</th>\n",
       "      <td>v</td>\n",
       "      <td>corinthians</td>\n",
       "      <td>6</td>\n",
       "      <td>0</td>\n",
       "      <td>cobresal</td>\n",
       "      <td>chi</td>\n",
       "      <td>quarta</td>\n",
       "      <td>libertadores</td>\n",
       "      <td>4171</td>\n",
       "      <td>2635754.5</td>\n",
       "      <td>20</td>\n",
       "      <td>4</td>\n",
       "      <td>16</td>\n",
       "      <td>2016-04-20</td>\n",
       "    </tr>\n",
       "  </tbody>\n",
       "</table>\n",
       "</div>"
      ],
      "text/plain": [
       "    resultado  corinthians  gol_cor  gol_vis    visitante pais dia_semana  \\\n",
       "117         v  corinthians        3        2    palmeiras  bra    domingo   \n",
       "120         e  corinthians        2        2  atletico mg  bra    domingo   \n",
       "253         e  corinthians        1        1       gremio  bra    domingo   \n",
       "183         e  corinthians        2        2        ceara  bra     sabado   \n",
       "64          v  corinthians        6        0     cobresal  chi     quarta   \n",
       "\n",
       "       campeonato  publico      renda  dia  mes  ano       data  \n",
       "117    brasileiro     4609  2908847.1    5   11   17 2017-11-05  \n",
       "120    brasileiro     4603  2892594.2   26   11   17 2017-11-26  \n",
       "253    brasileiro     4398  2517739.0    5   12   21 2021-12-05  \n",
       "183    brasileiro     4323  2888967.3    7    9   19 2019-09-07  \n",
       "64   libertadores     4171  2635754.5   20    4   16 2016-04-20  "
      ]
     },
     "execution_count": 89,
     "metadata": {},
     "output_type": "execute_result"
    }
   ],
   "source": [
    "cr2.loc[cr2.publico < 10000].sort_values('publico',ascending=False).head()"
   ]
  },
  {
   "cell_type": "code",
   "execution_count": 90,
   "id": "ce29f4e0-7679-41c0-8995-1aa94b6204bf",
   "metadata": {},
   "outputs": [
    {
     "data": {
      "text/plain": [
       "(5, 14)"
      ]
     },
     "execution_count": 90,
     "metadata": {},
     "output_type": "execute_result"
    }
   ],
   "source": [
    "cr2.loc[cr2.publico < 10000].sort_values('publico',ascending=False).head().shape"
   ]
  },
  {
   "cell_type": "markdown",
   "id": "9c6cd9bf-6e06-4ae9-a409-dac56eb7eb26",
   "metadata": {},
   "source": [
    "Entre esses jogos com público abaixo do padrão sem influência na renda, existem clássicos e também jogos de campeonatos internacionais, os quais geralmente têm uma média de público até superior à vista normalmente.<br> Também não há um padrão de datas que possa coincidir com as restrições do período pandêmico.<br>\n",
    "Pesquisando sobre os 3 primeiros jogos da tabela acima, pude verificar que faltou um zero à direita do público pagante, provavelmente por um erro no processamento dos dados.<br>\n",
    "Fontes:<br>\n",
    "Índice 117: https://www.uol.com.br/esporte/futebol/campeonatos/brasileiro/serie-a/ultimas-noticias/2017/11/05/corinthians-x-palmeiras.htm<br>\n",
    "Índice 120: http://ge.globo.com/sp/futebol/brasileirao-serie-a/jogo/26-11-2017/corinthians-atletico-mg/<br>\n",
    "Índice 253: https://www.meutimao.com.br/jogo/5938/brasileirao_2021/corinthians-1-x-1-gremio<br>"
   ]
  },
  {
   "cell_type": "code",
   "execution_count": 91,
   "id": "010068d8-348b-4013-af03-e0260e19221f",
   "metadata": {
    "tags": []
   },
   "outputs": [
    {
     "data": {
      "text/html": [
       "<div>\n",
       "<style scoped>\n",
       "    .dataframe tbody tr th:only-of-type {\n",
       "        vertical-align: middle;\n",
       "    }\n",
       "\n",
       "    .dataframe tbody tr th {\n",
       "        vertical-align: top;\n",
       "    }\n",
       "\n",
       "    .dataframe thead th {\n",
       "        text-align: right;\n",
       "    }\n",
       "</style>\n",
       "<table border=\"1\" class=\"dataframe\">\n",
       "  <thead>\n",
       "    <tr style=\"text-align: right;\">\n",
       "      <th></th>\n",
       "      <th>resultado</th>\n",
       "      <th>corinthians</th>\n",
       "      <th>gol_cor</th>\n",
       "      <th>gol_vis</th>\n",
       "      <th>visitante</th>\n",
       "      <th>pais</th>\n",
       "      <th>dia_semana</th>\n",
       "      <th>campeonato</th>\n",
       "      <th>publico</th>\n",
       "      <th>renda</th>\n",
       "      <th>dia</th>\n",
       "      <th>mes</th>\n",
       "      <th>ano</th>\n",
       "      <th>data</th>\n",
       "    </tr>\n",
       "  </thead>\n",
       "  <tbody>\n",
       "    <tr>\n",
       "      <th>117</th>\n",
       "      <td>v</td>\n",
       "      <td>corinthians</td>\n",
       "      <td>3</td>\n",
       "      <td>2</td>\n",
       "      <td>palmeiras</td>\n",
       "      <td>bra</td>\n",
       "      <td>domingo</td>\n",
       "      <td>brasileiro</td>\n",
       "      <td>46090</td>\n",
       "      <td>2908847.1</td>\n",
       "      <td>5</td>\n",
       "      <td>11</td>\n",
       "      <td>17</td>\n",
       "      <td>2017-11-05</td>\n",
       "    </tr>\n",
       "    <tr>\n",
       "      <th>120</th>\n",
       "      <td>e</td>\n",
       "      <td>corinthians</td>\n",
       "      <td>2</td>\n",
       "      <td>2</td>\n",
       "      <td>atletico mg</td>\n",
       "      <td>bra</td>\n",
       "      <td>domingo</td>\n",
       "      <td>brasileiro</td>\n",
       "      <td>46030</td>\n",
       "      <td>2892594.2</td>\n",
       "      <td>26</td>\n",
       "      <td>11</td>\n",
       "      <td>17</td>\n",
       "      <td>2017-11-26</td>\n",
       "    </tr>\n",
       "    <tr>\n",
       "      <th>253</th>\n",
       "      <td>e</td>\n",
       "      <td>corinthians</td>\n",
       "      <td>1</td>\n",
       "      <td>1</td>\n",
       "      <td>gremio</td>\n",
       "      <td>bra</td>\n",
       "      <td>domingo</td>\n",
       "      <td>brasileiro</td>\n",
       "      <td>43980</td>\n",
       "      <td>2517739.0</td>\n",
       "      <td>5</td>\n",
       "      <td>12</td>\n",
       "      <td>21</td>\n",
       "      <td>2021-12-05</td>\n",
       "    </tr>\n",
       "    <tr>\n",
       "      <th>183</th>\n",
       "      <td>e</td>\n",
       "      <td>corinthians</td>\n",
       "      <td>2</td>\n",
       "      <td>2</td>\n",
       "      <td>ceara</td>\n",
       "      <td>bra</td>\n",
       "      <td>sabado</td>\n",
       "      <td>brasileiro</td>\n",
       "      <td>43230</td>\n",
       "      <td>2888967.3</td>\n",
       "      <td>7</td>\n",
       "      <td>9</td>\n",
       "      <td>19</td>\n",
       "      <td>2019-09-07</td>\n",
       "    </tr>\n",
       "    <tr>\n",
       "      <th>64</th>\n",
       "      <td>v</td>\n",
       "      <td>corinthians</td>\n",
       "      <td>6</td>\n",
       "      <td>0</td>\n",
       "      <td>cobresal</td>\n",
       "      <td>chi</td>\n",
       "      <td>quarta</td>\n",
       "      <td>libertadores</td>\n",
       "      <td>41710</td>\n",
       "      <td>2635754.5</td>\n",
       "      <td>20</td>\n",
       "      <td>4</td>\n",
       "      <td>16</td>\n",
       "      <td>2016-04-20</td>\n",
       "    </tr>\n",
       "  </tbody>\n",
       "</table>\n",
       "</div>"
      ],
      "text/plain": [
       "    resultado  corinthians  gol_cor  gol_vis    visitante pais dia_semana  \\\n",
       "117         v  corinthians        3        2    palmeiras  bra    domingo   \n",
       "120         e  corinthians        2        2  atletico mg  bra    domingo   \n",
       "253         e  corinthians        1        1       gremio  bra    domingo   \n",
       "183         e  corinthians        2        2        ceara  bra     sabado   \n",
       "64          v  corinthians        6        0     cobresal  chi     quarta   \n",
       "\n",
       "       campeonato  publico      renda  dia  mes  ano       data  \n",
       "117    brasileiro    46090  2908847.1    5   11   17 2017-11-05  \n",
       "120    brasileiro    46030  2892594.2   26   11   17 2017-11-26  \n",
       "253    brasileiro    43980  2517739.0    5   12   21 2021-12-05  \n",
       "183    brasileiro    43230  2888967.3    7    9   19 2019-09-07  \n",
       "64   libertadores    41710  2635754.5   20    4   16 2016-04-20  "
      ]
     },
     "execution_count": 91,
     "metadata": {},
     "output_type": "execute_result"
    }
   ],
   "source": [
    "# Para consertar os dados, vou adicionar o zero faltante a esses jogos com erro na coluna \"publico':\n",
    "recomp = cr2.loc[cr2.publico < 10000].sort_values('publico',ascending=False)\n",
    "recomp.publico = recomp.publico.astype(str)\n",
    "recomp.publico = recomp.publico + '0'\n",
    "recomp.publico = recomp.publico.astype(int)\n",
    "recomp.head()"
   ]
  },
  {
   "cell_type": "code",
   "execution_count": 92,
   "id": "9c30cc80-e44f-4fca-ac78-739acba2f785",
   "metadata": {
    "tags": []
   },
   "outputs": [],
   "source": [
    "#repassando os valores para os Dataframes principais:\n",
    "cr.loc[recomp.index,'publico'] = recomp.publico\n",
    "cr2.loc[recomp.index,'publico'] = recomp.publico"
   ]
  },
  {
   "cell_type": "code",
   "execution_count": 93,
   "id": "cd5fbd69-87c4-45df-aa80-975e214cf2c1",
   "metadata": {},
   "outputs": [
    {
     "data": {
      "text/plain": [
       "<matplotlib.collections.PathCollection at 0x1f4e37bb730>"
      ]
     },
     "execution_count": 93,
     "metadata": {},
     "output_type": "execute_result"
    },
    {
     "data": {
      "image/png": "[encoded data removed]",
      "text/plain": [
       "<Figure size 432x288 with 1 Axes>"
      ]
     },
     "metadata": {
      "needs_background": "light"
     },
     "output_type": "display_data"
    }
   ],
   "source": [
    "plt.scatter(cr2.renda, cr2.publico)"
   ]
  },
  {
   "cell_type": "markdown",
   "id": "eaf59c25-e367-4ef9-9478-5ba60ad697de",
   "metadata": {},
   "source": [
    "As inconsistências de renda foram encontradas e não mais estão no Dataframe. "
   ]
  },
  {
   "cell_type": "markdown",
   "id": "3541c472-5076-42e2-8aec-5ed279ec3919",
   "metadata": {
    "tags": []
   },
   "source": [
    "# Algumas respostas:"
   ]
  },
  {
   "cell_type": "code",
   "execution_count": 94,
   "id": "b0c1b237-0ac2-43f5-b679-0c8c68bd7c34",
   "metadata": {},
   "outputs": [
    {
     "data": {
      "text/html": [
       "<div>\n",
       "<style scoped>\n",
       "    .dataframe tbody tr th:only-of-type {\n",
       "        vertical-align: middle;\n",
       "    }\n",
       "\n",
       "    .dataframe tbody tr th {\n",
       "        vertical-align: top;\n",
       "    }\n",
       "\n",
       "    .dataframe thead th {\n",
       "        text-align: right;\n",
       "    }\n",
       "</style>\n",
       "<table border=\"1\" class=\"dataframe\">\n",
       "  <thead>\n",
       "    <tr style=\"text-align: right;\">\n",
       "      <th></th>\n",
       "      <th>jogo</th>\n",
       "    </tr>\n",
       "    <tr>\n",
       "      <th>visitante</th>\n",
       "      <th></th>\n",
       "    </tr>\n",
       "  </thead>\n",
       "  <tbody>\n",
       "    <tr>\n",
       "      <th>palmeiras</th>\n",
       "      <td>16</td>\n",
       "    </tr>\n",
       "    <tr>\n",
       "      <th>santos</th>\n",
       "      <td>16</td>\n",
       "    </tr>\n",
       "    <tr>\n",
       "      <th>sao paulo</th>\n",
       "      <td>15</td>\n",
       "    </tr>\n",
       "    <tr>\n",
       "      <th>fluminense</th>\n",
       "      <td>10</td>\n",
       "    </tr>\n",
       "    <tr>\n",
       "      <th>gremio</th>\n",
       "      <td>9</td>\n",
       "    </tr>\n",
       "    <tr>\n",
       "      <th>ponte preta</th>\n",
       "      <td>9</td>\n",
       "    </tr>\n",
       "    <tr>\n",
       "      <th>atletico mg</th>\n",
       "      <td>9</td>\n",
       "    </tr>\n",
       "    <tr>\n",
       "      <th>flamengo</th>\n",
       "      <td>9</td>\n",
       "    </tr>\n",
       "    <tr>\n",
       "      <th>chapecoense</th>\n",
       "      <td>8</td>\n",
       "    </tr>\n",
       "    <tr>\n",
       "      <th>internacional</th>\n",
       "      <td>8</td>\n",
       "    </tr>\n",
       "  </tbody>\n",
       "</table>\n",
       "</div>"
      ],
      "text/plain": [
       "               jogo\n",
       "visitante          \n",
       "palmeiras        16\n",
       "santos           16\n",
       "sao paulo        15\n",
       "fluminense       10\n",
       "gremio            9\n",
       "ponte preta       9\n",
       "atletico mg       9\n",
       "flamengo          9\n",
       "chapecoense       8\n",
       "internacional     8"
      ]
     },
     "execution_count": 94,
     "metadata": {},
     "output_type": "execute_result"
    }
   ],
   "source": [
    "# Quais os times que mais jogaram com o Corinthians na Arena?\n",
    "cr.groupby('visitante').count().loc[:,['jogo']].sort_values('jogo', ascending = False).head(10)"
   ]
  },
  {
   "cell_type": "code",
   "execution_count": 95,
   "id": "5795c106-77b4-4b57-bd90-a795945c2348",
   "metadata": {},
   "outputs": [
    {
     "data": {
      "text/html": [
       "<div>\n",
       "<style scoped>\n",
       "    .dataframe tbody tr th:only-of-type {\n",
       "        vertical-align: middle;\n",
       "    }\n",
       "\n",
       "    .dataframe tbody tr th {\n",
       "        vertical-align: top;\n",
       "    }\n",
       "\n",
       "    .dataframe thead th {\n",
       "        text-align: right;\n",
       "    }\n",
       "</style>\n",
       "<table border=\"1\" class=\"dataframe\">\n",
       "  <thead>\n",
       "    <tr style=\"text-align: right;\">\n",
       "      <th></th>\n",
       "      <th>jogo</th>\n",
       "    </tr>\n",
       "    <tr>\n",
       "      <th>campeonato</th>\n",
       "      <th></th>\n",
       "    </tr>\n",
       "  </thead>\n",
       "  <tbody>\n",
       "    <tr>\n",
       "      <th>brasileiro</th>\n",
       "      <td>146</td>\n",
       "    </tr>\n",
       "    <tr>\n",
       "      <th>paulista</th>\n",
       "      <td>66</td>\n",
       "    </tr>\n",
       "    <tr>\n",
       "      <th>copa do brasil</th>\n",
       "      <td>18</td>\n",
       "    </tr>\n",
       "    <tr>\n",
       "      <th>libertadores</th>\n",
       "      <td>14</td>\n",
       "    </tr>\n",
       "    <tr>\n",
       "      <th>sulamericana</th>\n",
       "      <td>11</td>\n",
       "    </tr>\n",
       "    <tr>\n",
       "      <th>amistoso</th>\n",
       "      <td>5</td>\n",
       "    </tr>\n",
       "  </tbody>\n",
       "</table>\n",
       "</div>"
      ],
      "text/plain": [
       "                jogo\n",
       "campeonato          \n",
       "brasileiro       146\n",
       "paulista          66\n",
       "copa do brasil    18\n",
       "libertadores      14\n",
       "sulamericana      11\n",
       "amistoso           5"
      ]
     },
     "execution_count": 95,
     "metadata": {},
     "output_type": "execute_result"
    }
   ],
   "source": [
    "# Quantas partidas de cada campeonato foram jogadas na Arena?\n",
    "por_campeonato = cr.loc[:,['campeonato','jogo']].groupby('campeonato').count()\n",
    "por_campeonato.sort_values('jogo', ascending = False)"
   ]
  },
  {
   "cell_type": "code",
   "execution_count": 96,
   "id": "e59a65ef-8534-474e-8b0f-e7a0648393dd",
   "metadata": {},
   "outputs": [
    {
     "data": {
      "text/html": [
       "<div>\n",
       "<style scoped>\n",
       "    .dataframe tbody tr th:only-of-type {\n",
       "        vertical-align: middle;\n",
       "    }\n",
       "\n",
       "    .dataframe tbody tr th {\n",
       "        vertical-align: top;\n",
       "    }\n",
       "\n",
       "    .dataframe thead th {\n",
       "        text-align: right;\n",
       "    }\n",
       "</style>\n",
       "<table border=\"1\" class=\"dataframe\">\n",
       "  <thead>\n",
       "    <tr style=\"text-align: right;\">\n",
       "      <th></th>\n",
       "      <th>jogo</th>\n",
       "    </tr>\n",
       "    <tr>\n",
       "      <th>visitante</th>\n",
       "      <th></th>\n",
       "    </tr>\n",
       "  </thead>\n",
       "  <tbody>\n",
       "    <tr>\n",
       "      <th>palmeiras</th>\n",
       "      <td>16</td>\n",
       "    </tr>\n",
       "    <tr>\n",
       "      <th>santos</th>\n",
       "      <td>16</td>\n",
       "    </tr>\n",
       "    <tr>\n",
       "      <th>sao paulo</th>\n",
       "      <td>15</td>\n",
       "    </tr>\n",
       "  </tbody>\n",
       "</table>\n",
       "</div>"
      ],
      "text/plain": [
       "           jogo\n",
       "visitante      \n",
       "palmeiras    16\n",
       "santos       16\n",
       "sao paulo    15"
      ]
     },
     "execution_count": 96,
     "metadata": {},
     "output_type": "execute_result"
    }
   ],
   "source": [
    "# Quantos clássicos foram jogados na Arena?\n",
    "classicos = cr.loc[:, ['visitante','jogo']][(cr.visitante == 'santos') | (cr.visitante == 'palmeiras') | (cr.visitante == 'sao paulo')]\n",
    "classicos.groupby('visitante').count()"
   ]
  },
  {
   "cell_type": "markdown",
   "id": "04ad7113-1094-438a-acfe-14a43a5a8ecc",
   "metadata": {
    "jp-MarkdownHeadingCollapsed": true,
    "tags": []
   },
   "source": [
    "# Regressão linear:"
   ]
  },
  {
   "cell_type": "markdown",
   "id": "54962d17-522a-4dad-8856-aa208d9e7800",
   "metadata": {},
   "source": [
    "Criação de um modelo de regressão linear simples para previsão do valor padrão de arrecadação caso a Neo Química Arena comportasse 70000 pessoas.\n"
   ]
  },
  {
   "cell_type": "code",
   "execution_count": 97,
   "id": "314f0222-9c7f-4d12-b47b-4d1cb7f04796",
   "metadata": {},
   "outputs": [],
   "source": [
    "x = cr2.renda.values\n",
    "y = cr2.publico.values"
   ]
  },
  {
   "cell_type": "code",
   "execution_count": 98,
   "id": "0cd84b5b-5db0-44ba-811d-bfc2baf4009c",
   "metadata": {},
   "outputs": [
    {
     "data": {
      "text/plain": [
       "array([[1.        , 0.83766285],\n",
       "       [0.83766285, 1.        ]])"
      ]
     },
     "execution_count": 98,
     "metadata": {},
     "output_type": "execute_result"
    }
   ],
   "source": [
    "#temos uma boa correlação, isso significa que um modelo de regressão linear pode funcionar com essas variáveis\n",
    "np.corrcoef(x,y)"
   ]
  },
  {
   "cell_type": "code",
   "execution_count": 99,
   "id": "7efe6a7f-fec1-48e8-b868-98168a07d3d9",
   "metadata": {},
   "outputs": [],
   "source": [
    "y = y.reshape(-1,1)"
   ]
  },
  {
   "cell_type": "code",
   "execution_count": 100,
   "id": "4882fa8a-3a5c-4019-9415-0b423bd9ed90",
   "metadata": {},
   "outputs": [],
   "source": [
    "modelo = LinearRegression()"
   ]
  },
  {
   "cell_type": "code",
   "execution_count": 101,
   "id": "52c78122-2167-4b02-b248-a9dae98ba43a",
   "metadata": {},
   "outputs": [
    {
     "data": {
      "text/plain": [
       "LinearRegression()"
      ]
     },
     "execution_count": 101,
     "metadata": {},
     "output_type": "execute_result"
    }
   ],
   "source": [
    "modelo.fit(y,x)"
   ]
  },
  {
   "cell_type": "code",
   "execution_count": 102,
   "id": "2f6672ea-7277-4dcd-908f-14b1b51722a6",
   "metadata": {},
   "outputs": [
    {
     "data": {
      "text/plain": [
       "-863007.1435414506"
      ]
     },
     "execution_count": 102,
     "metadata": {},
     "output_type": "execute_result"
    }
   ],
   "source": [
    "modelo.intercept_"
   ]
  },
  {
   "cell_type": "code",
   "execution_count": 103,
   "id": "cc1f1b47-30ae-450f-a27a-c67a362d61f4",
   "metadata": {},
   "outputs": [
    {
     "data": {
      "text/plain": [
       "array([81.81157703])"
      ]
     },
     "execution_count": 103,
     "metadata": {},
     "output_type": "execute_result"
    }
   ],
   "source": [
    "# O modelo entende que a cada 1 pessoa a mais no público, a renda sobe R$ 81.81\n",
    "modelo.coef_"
   ]
  },
  {
   "cell_type": "code",
   "execution_count": 108,
   "id": "c969ca57-0859-4d50-ad43-1f0629c541bd",
   "metadata": {},
   "outputs": [
    {
     "data": {
      "text/plain": [
       "[<matplotlib.lines.Line2D at 0x1f4e388f1c0>]"
      ]
     },
     "execution_count": 108,
     "metadata": {},
     "output_type": "execute_result"
    },
    {
     "data": {
      "image/png": "[encoded data removed]",
      "text/plain": [
       "<Figure size 432x288 with 1 Axes>"
      ]
     },
     "metadata": {
      "needs_background": "light"
     },
     "output_type": "display_data"
    }
   ],
   "source": [
    "plt.scatter(y,x)\n",
    "plt.plot(y,modelo.predict(y), color = 'red')"
   ]
  },
  {
   "cell_type": "code",
   "execution_count": 105,
   "id": "e57b4640-08c6-4d4e-bf0b-3598103c2b79",
   "metadata": {},
   "outputs": [
    {
     "data": {
      "text/plain": [
       "array([4863803.24833724])"
      ]
     },
     "execution_count": 105,
     "metadata": {},
     "output_type": "execute_result"
    }
   ],
   "source": [
    "modelo.predict([[70000]])"
   ]
  },
  {
   "cell_type": "code",
   "execution_count": 106,
   "id": "8172a5fd-d218-4024-8795-30a245aee010",
   "metadata": {},
   "outputs": [
    {
     "data": {
      "text/plain": [
       "0.701679050682511"
      ]
     },
     "execution_count": 106,
     "metadata": {},
     "output_type": "execute_result"
    }
   ],
   "source": [
    "modelo.score(y,x)"
   ]
  },
  {
   "cell_type": "markdown",
   "id": "90e54ec4-5ed4-490f-90d3-ef6829082df3",
   "metadata": {},
   "source": [
    "O modelo prevê que caso o estádio comportasse 70 mil pessoas, a arrecadação de acordo com o que foi entendido da média de preços praticada na maioria dos jogos seria em média de R$ 4863803,00.<br>\n",
    "\n",
    "Algumas considerações:<br>\n",
    "-Pelo Score, esse modelo é capaz de prever 70&#37; da renda com base na variável explanatória de público;<br>\n",
    "-Pela diferença grande entre as escalas de público e renda, o que torna a intersecção muito baixa, o modelo não funciona bem para prever a arrecadação com médias de público abaixo do padrão;<br>\n",
    "-A arrecadação poderia variar também de acordo com os preços praticados nos novos setores, visto que a variação na faixa de preços de ingressos é bastante considerável, indo de 35 reais até mais de 500."
   ]
  }
 ],
 "metadata": {
  "kernelspec": {
   "display_name": "Python 3 (ipykernel)",
   "language": "python",
   "name": "python3"
  },
  "language_info": {
   "codemirror_mode": {
    "name": "ipython",
    "version": 3
   },
   "file_extension": ".py",
   "mimetype": "text/x-python",
   "name": "python",
   "nbconvert_exporter": "python",
   "pygments_lexer": "ipython3",
   "version": "3.9.7"
  }
 },
 "nbformat": 4,
 "nbformat_minor": 5
}
